{
 "cells": [
  {
   "cell_type": "code",
   "execution_count": 6,
   "id": "2916094d-bfd8-449c-aaec-80e8be18d658",
   "metadata": {},
   "outputs": [],
   "source": [
    "import requests\n",
    "from bs4 import BeautifulSoup as bs\n",
    "import pandas as pd\n",
    "import hashlib\n",
    "from pathlib import Path\n",
    "from urllib.request import urlretrieve as download\n",
    "from gazpacho import Soup\n",
    "\n",
    "# Pass the headers you want to retrieve from the xml such as [\"loc\", \"lastmod\"]\n",
    "def parse_sitemap(url, headers):\n",
    "    \n",
    "    resp = requests.get(url)\n",
    "    # we didn't get a valid response, bail\n",
    "    if (200 != resp.status_code):\n",
    "        return False\n",
    "\n",
    "    # BeautifulSoup to parse the document\n",
    "    soup = bs(resp.content, \"xml\")\n",
    "\n",
    "    # find all the <url> tags in the document\n",
    "    urls = soup.findAll('url')\n",
    "    sitemaps = soup.findAll('sitemap')\n",
    "    new_list = [\"Source\"] + headers\n",
    "    panda_out_total = pd.DataFrame([], columns=new_list)\n",
    "\n",
    "\n",
    "    if not urls and not sitemaps:\n",
    "        return False\n",
    "\n",
    "    # Recursive call to the the function if sitemap contains sitemaps\n",
    "    if sitemaps:\n",
    "        for u in sitemaps:\n",
    "            sitemap_url = u.find('loc').string\n",
    "            panda_recursive = parse_sitemap(sitemap_url, headers)\n",
    "            panda_out_total = pd.concat([panda_out_total, panda_recursive], ignore_index=True)\n",
    "\n",
    "    # storage for later...\n",
    "    out = []\n",
    "\n",
    "    # Creates a hash of the parent sitemap\n",
    "    hash_sitemap = hashlib.md5(str(url).encode('utf-8')).hexdigest()\n",
    "\n",
    "    # Extract the keys we want\n",
    "    for u in urls:\n",
    "        values = [hash_sitemap]\n",
    "        for head in headers:\n",
    "            loc = None\n",
    "            loc = u.find(head)\n",
    "            if not loc:\n",
    "                loc = \"None\"\n",
    "            else:\n",
    "                loc = loc.string\n",
    "            values.append(loc)\n",
    "        out.append(values)\n",
    "    \n",
    "    # Creates a dataframe\n",
    "    panda_out = pd.DataFrame(out, columns= new_list)\n",
    "\n",
    "    # If recursive then merge recursive dataframe\n",
    "    if not panda_out_total.empty:\n",
    "        panda_out = pd.concat([panda_out, panda_out_total], ignore_index=True)\n",
    "\n",
    "    #returns the dataframe\n",
    "    return panda_out\n",
    "\n"
   ]
  },
  {
   "cell_type": "code",
   "execution_count": 8,
   "id": "c7a817d3-015c-48f7-bcdd-64214b34e305",
   "metadata": {},
   "outputs": [],
   "source": [
    "site_links_df = parse_sitemap(\"https://www.psychobunny.com/sitemap.xml\", [\"loc\"])"
   ]
  },
  {
   "cell_type": "code",
   "execution_count": null,
   "id": "208f65d9-aef4-4701-a8d0-7469e57fb025",
   "metadata": {},
   "outputs": [],
   "source": [
    "pd.DataFrame([[a, b, c]], columns=['a', 'b', 'c'])"
   ]
  },
  {
   "cell_type": "code",
   "execution_count": 20,
   "id": "a2438693-f1d3-41e7-a6a6-946a85d67881",
   "metadata": {},
   "outputs": [
    {
     "name": "stdout",
     "output_type": "stream",
     "text": [
      "'Soup' object is not iterable\n",
      "'Soup' object is not iterable\n",
      "'Soup' object is not iterable\n",
      "'Soup' object is not iterable\n",
      "'Soup' object is not iterable\n",
      "'Soup' object is not iterable\n",
      "'Soup' object is not iterable\n",
      "'NoneType' object is not iterable\n",
      "'Soup' object is not iterable\n",
      "'Soup' object is not iterable\n",
      "'Soup' object is not iterable\n",
      "'Soup' object is not iterable\n",
      "'Soup' object is not iterable\n",
      "'Soup' object is not iterable\n",
      "'NoneType' object is not iterable\n",
      "'Soup' object is not iterable\n",
      "'Soup' object is not iterable\n",
      "'Soup' object is not iterable\n",
      "'Soup' object is not iterable\n",
      "'NoneType' object is not iterable\n",
      "'NoneType' object is not iterable\n",
      "'NoneType' object is not iterable\n",
      "'NoneType' object is not iterable\n",
      "'NoneType' object is not iterable\n",
      "'NoneType' object is not iterable\n",
      "'Soup' object is not iterable\n",
      "'Soup' object is not iterable\n",
      "'Soup' object is not iterable\n",
      "'Soup' object is not iterable\n",
      "'Soup' object is not iterable\n",
      "'Soup' object is not iterable\n",
      "'NoneType' object is not iterable\n",
      "'NoneType' object is not iterable\n",
      "'NoneType' object is not iterable\n",
      "'NoneType' object is not iterable\n",
      "'NoneType' object is not iterable\n",
      "'NoneType' object is not iterable\n",
      "'NoneType' object is not iterable\n",
      "'NoneType' object is not iterable\n",
      "'NoneType' object is not iterable\n",
      "'NoneType' object is not iterable\n",
      "'NoneType' object is not iterable\n",
      "'NoneType' object is not iterable\n",
      "'NoneType' object is not iterable\n",
      "'NoneType' object is not iterable\n",
      "'NoneType' object is not iterable\n",
      "'NoneType' object is not iterable\n",
      "'NoneType' object is not iterable\n",
      "'NoneType' object is not iterable\n",
      "'NoneType' object is not iterable\n",
      "'NoneType' object is not iterable\n",
      "'NoneType' object is not iterable\n",
      "'NoneType' object is not iterable\n",
      "'NoneType' object is not iterable\n",
      "'NoneType' object is not iterable\n",
      "'NoneType' object is not iterable\n",
      "'NoneType' object is not iterable\n",
      "'NoneType' object is not iterable\n",
      "'NoneType' object is not iterable\n",
      "'NoneType' object is not iterable\n",
      "'NoneType' object is not iterable\n",
      "'NoneType' object is not iterable\n",
      "'NoneType' object is not iterable\n",
      "'NoneType' object is not iterable\n",
      "'NoneType' object is not iterable\n",
      "'NoneType' object is not iterable\n",
      "'NoneType' object is not iterable\n",
      "'NoneType' object is not iterable\n",
      "'NoneType' object is not iterable\n",
      "'NoneType' object is not iterable\n",
      "'NoneType' object is not iterable\n",
      "'NoneType' object is not iterable\n",
      "'NoneType' object is not iterable\n",
      "'NoneType' object is not iterable\n",
      "'NoneType' object is not iterable\n",
      "'NoneType' object is not iterable\n",
      "'NoneType' object is not iterable\n",
      "'NoneType' object is not iterable\n",
      "'NoneType' object is not iterable\n",
      "'NoneType' object is not iterable\n",
      "'NoneType' object is not iterable\n",
      "'NoneType' object is not iterable\n",
      "'NoneType' object is not iterable\n",
      "'NoneType' object is not iterable\n",
      "'NoneType' object is not iterable\n",
      "'NoneType' object is not iterable\n",
      "'NoneType' object is not iterable\n",
      "'NoneType' object is not iterable\n",
      "'NoneType' object is not iterable\n",
      "'NoneType' object is not iterable\n",
      "'NoneType' object is not iterable\n",
      "'NoneType' object is not iterable\n",
      "'NoneType' object is not iterable\n",
      "'NoneType' object is not iterable\n",
      "'NoneType' object is not iterable\n",
      "'NoneType' object is not iterable\n",
      "'NoneType' object is not iterable\n",
      "'NoneType' object is not iterable\n",
      "'NoneType' object is not iterable\n",
      "'NoneType' object is not iterable\n",
      "'NoneType' object is not iterable\n",
      "'NoneType' object is not iterable\n",
      "'NoneType' object is not iterable\n",
      "'NoneType' object is not iterable\n",
      "'NoneType' object is not iterable\n",
      "'NoneType' object is not iterable\n",
      "'NoneType' object is not iterable\n",
      "'NoneType' object is not iterable\n",
      "'NoneType' object is not iterable\n",
      "'NoneType' object is not iterable\n",
      "'NoneType' object is not iterable\n",
      "'NoneType' object is not iterable\n",
      "'NoneType' object is not iterable\n",
      "'NoneType' object is not iterable\n",
      "'NoneType' object is not iterable\n",
      "'NoneType' object is not iterable\n",
      "'NoneType' object is not iterable\n",
      "'NoneType' object is not iterable\n",
      "'NoneType' object is not iterable\n",
      "'NoneType' object is not iterable\n",
      "'NoneType' object is not iterable\n",
      "'NoneType' object is not iterable\n",
      "'NoneType' object is not iterable\n",
      "'NoneType' object is not iterable\n",
      "'NoneType' object is not iterable\n",
      "'NoneType' object is not iterable\n",
      "'NoneType' object is not iterable\n",
      "'NoneType' object is not iterable\n",
      "'NoneType' object is not iterable\n",
      "'NoneType' object is not iterable\n",
      "'NoneType' object is not iterable\n",
      "'NoneType' object is not iterable\n",
      "'NoneType' object is not iterable\n",
      "'NoneType' object is not iterable\n",
      "'NoneType' object is not iterable\n",
      "'NoneType' object is not iterable\n",
      "'NoneType' object is not iterable\n",
      "'NoneType' object is not iterable\n",
      "'NoneType' object is not iterable\n",
      "'NoneType' object is not iterable\n",
      "'NoneType' object is not iterable\n",
      "'NoneType' object is not iterable\n",
      "'NoneType' object is not iterable\n",
      "'NoneType' object is not iterable\n",
      "'NoneType' object is not iterable\n",
      "'NoneType' object is not iterable\n",
      "'NoneType' object is not iterable\n",
      "'NoneType' object is not iterable\n",
      "'NoneType' object is not iterable\n",
      "'NoneType' object is not iterable\n",
      "'NoneType' object is not iterable\n",
      "'NoneType' object is not iterable\n",
      "'NoneType' object is not iterable\n",
      "'NoneType' object is not iterable\n",
      "'NoneType' object is not iterable\n",
      "'NoneType' object is not iterable\n",
      "'NoneType' object is not iterable\n",
      "'NoneType' object is not iterable\n",
      "'NoneType' object is not iterable\n",
      "'NoneType' object is not iterable\n",
      "'NoneType' object is not iterable\n",
      "'NoneType' object is not iterable\n",
      "'NoneType' object is not iterable\n",
      "'NoneType' object is not iterable\n",
      "'NoneType' object is not iterable\n",
      "'NoneType' object is not iterable\n",
      "'NoneType' object is not iterable\n",
      "'NoneType' object is not iterable\n",
      "'NoneType' object is not iterable\n",
      "'NoneType' object is not iterable\n",
      "'NoneType' object is not iterable\n",
      "'NoneType' object is not iterable\n",
      "'NoneType' object is not iterable\n",
      "'NoneType' object is not iterable\n",
      "'NoneType' object is not iterable\n",
      "'NoneType' object is not iterable\n",
      "'NoneType' object is not iterable\n",
      "'NoneType' object is not iterable\n",
      "'NoneType' object is not iterable\n",
      "'NoneType' object is not iterable\n",
      "'NoneType' object is not iterable\n",
      "'NoneType' object is not iterable\n",
      "'NoneType' object is not iterable\n",
      "'NoneType' object is not iterable\n",
      "'NoneType' object is not iterable\n",
      "'NoneType' object is not iterable\n",
      "'NoneType' object is not iterable\n",
      "'NoneType' object is not iterable\n",
      "'NoneType' object is not iterable\n",
      "'NoneType' object is not iterable\n",
      "'NoneType' object is not iterable\n",
      "'NoneType' object is not iterable\n",
      "'NoneType' object is not iterable\n",
      "'NoneType' object is not iterable\n",
      "'NoneType' object is not iterable\n",
      "'NoneType' object is not iterable\n",
      "'NoneType' object is not iterable\n",
      "'NoneType' object is not iterable\n",
      "'NoneType' object is not iterable\n",
      "'NoneType' object is not iterable\n",
      "'NoneType' object is not iterable\n",
      "'NoneType' object is not iterable\n",
      "'NoneType' object is not iterable\n",
      "'NoneType' object is not iterable\n",
      "'NoneType' object is not iterable\n",
      "'NoneType' object is not iterable\n",
      "'Soup' object is not iterable\n",
      "'NoneType' object is not iterable\n",
      "'NoneType' object is not iterable\n",
      "'NoneType' object is not iterable\n",
      "'NoneType' object is not iterable\n",
      "'NoneType' object is not iterable\n",
      "'NoneType' object is not iterable\n",
      "'NoneType' object is not iterable\n",
      "'NoneType' object is not iterable\n",
      "'NoneType' object is not iterable\n",
      "'NoneType' object is not iterable\n",
      "'NoneType' object is not iterable\n",
      "'NoneType' object is not iterable\n",
      "'NoneType' object is not iterable\n",
      "'NoneType' object is not iterable\n",
      "'NoneType' object is not iterable\n",
      "'NoneType' object is not iterable\n",
      "'NoneType' object is not iterable\n",
      "'NoneType' object is not iterable\n",
      "'NoneType' object is not iterable\n",
      "'NoneType' object is not iterable\n",
      "'NoneType' object is not iterable\n",
      "'NoneType' object is not iterable\n",
      "'NoneType' object is not iterable\n",
      "'NoneType' object is not iterable\n",
      "'NoneType' object is not iterable\n",
      "'NoneType' object is not iterable\n",
      "'NoneType' object is not iterable\n",
      "'NoneType' object is not iterable\n",
      "'NoneType' object is not iterable\n",
      "'NoneType' object is not iterable\n",
      "'NoneType' object is not iterable\n",
      "'NoneType' object is not iterable\n",
      "'NoneType' object is not iterable\n",
      "'NoneType' object is not iterable\n",
      "'NoneType' object is not iterable\n",
      "'NoneType' object is not iterable\n",
      "'NoneType' object is not iterable\n",
      "'NoneType' object is not iterable\n",
      "'NoneType' object is not iterable\n",
      "'NoneType' object is not iterable\n",
      "'NoneType' object is not iterable\n",
      "'NoneType' object is not iterable\n",
      "'NoneType' object is not iterable\n",
      "'NoneType' object is not iterable\n",
      "'NoneType' object is not iterable\n",
      "'NoneType' object is not iterable\n",
      "'NoneType' object is not iterable\n",
      "'NoneType' object is not iterable\n",
      "'NoneType' object is not iterable\n",
      "'NoneType' object is not iterable\n",
      "'NoneType' object is not iterable\n",
      "'NoneType' object is not iterable\n",
      "'NoneType' object is not iterable\n",
      "'NoneType' object is not iterable\n",
      "'NoneType' object is not iterable\n",
      "'NoneType' object is not iterable\n",
      "'NoneType' object is not iterable\n",
      "'NoneType' object is not iterable\n",
      "'NoneType' object is not iterable\n",
      "'NoneType' object is not iterable\n",
      "'NoneType' object is not iterable\n",
      "'NoneType' object is not iterable\n",
      "'NoneType' object is not iterable\n",
      "'NoneType' object is not iterable\n",
      "'NoneType' object is not iterable\n",
      "'NoneType' object is not iterable\n",
      "'NoneType' object is not iterable\n",
      "'NoneType' object is not iterable\n",
      "'NoneType' object is not iterable\n",
      "'NoneType' object is not iterable\n",
      "'NoneType' object is not iterable\n",
      "'NoneType' object is not iterable\n",
      "'NoneType' object is not iterable\n",
      "'NoneType' object is not iterable\n",
      "'NoneType' object is not iterable\n"
     ]
    }
   ],
   "source": [
    "column_names = [\"Image_Name\", \"URL\"]\n",
    "\n",
    "image_url_df = pd.DataFrame()\n",
    "\n",
    "for url in site_links_df[\"loc\"]:\n",
    "    \n",
    "    soup = Soup.get(url)\n",
    "\n",
    "    image_containers = soup.find('img', {'class':'Image--lazyLoad Image--fadeIn'})\n",
    "\n",
    "    try:\n",
    "        for image in image_containers:\n",
    "            for t in image.attrs:\n",
    "                if t == \"src\":\n",
    "                    image_url = \"https:\" + image.attrs[t]\n",
    "                    image_name = url.split(\"/\")[-1]\n",
    "                    to_concat = pd.DataFrame([[image_name, image_url]], columns = column_names)\n",
    "\n",
    "                    if image_url_df.empty:\n",
    "                        image_url_df = to_concat                    \n",
    "                    else:\n",
    "                        image_url_df = pd.concat([image_url_df, to_concat])\n",
    "\n",
    "                elif t == \"data-original-src\":\n",
    "                    image_url = \"https:\" + image.attrs[t]\n",
    "                    image_name = url.split(\"/\")[-1]\n",
    "                    to_concat = pd.DataFrame([[image_name, image_url]], columns = column_names)\n",
    "\n",
    "                    if image_url_df.empty:\n",
    "                        image_url_df = to_concat                    \n",
    "                    else:\n",
    "                        image_url_df = pd.concat([image_url_df, to_concat])\n",
    "    except Exception as e:\n",
    "        print(e)\n",
    "        pass"
   ]
  },
  {
   "cell_type": "code",
   "execution_count": 21,
   "id": "234718ea-b743-4385-b9a2-4eaba8c1f7b6",
   "metadata": {},
   "outputs": [
    {
     "data": {
      "text/html": [
       "<div>\n",
       "<style scoped>\n",
       "    .dataframe tbody tr th:only-of-type {\n",
       "        vertical-align: middle;\n",
       "    }\n",
       "\n",
       "    .dataframe tbody tr th {\n",
       "        vertical-align: top;\n",
       "    }\n",
       "\n",
       "    .dataframe thead th {\n",
       "        text-align: right;\n",
       "    }\n",
       "</style>\n",
       "<table border=\"1\" class=\"dataframe\">\n",
       "  <thead>\n",
       "    <tr style=\"text-align: right;\">\n",
       "      <th></th>\n",
       "      <th>Image_Name</th>\n",
       "      <th>URL</th>\n",
       "    </tr>\n",
       "  </thead>\n",
       "  <tbody>\n",
       "    <tr>\n",
       "      <th>0</th>\n",
       "      <td>mens-big-and-tall-classic-polo-b9k001arpc-001-...</td>\n",
       "      <td>https://cdn.shopify.com/s/files/1/2304/1219/pr...</td>\n",
       "    </tr>\n",
       "    <tr>\n",
       "      <th>0</th>\n",
       "      <td>mens-big-and-tall-classic-polo-b9k001arpc-001-...</td>\n",
       "      <td>https://cdn.shopify.com/s/files/1/2304/1219/pr...</td>\n",
       "    </tr>\n",
       "    <tr>\n",
       "      <th>0</th>\n",
       "      <td>mens-big-and-tall-classic-polo-b9k001arpc-001-...</td>\n",
       "      <td>https://cdn.shopify.com/s/files/1/2304/1219/pr...</td>\n",
       "    </tr>\n",
       "    <tr>\n",
       "      <th>0</th>\n",
       "      <td>mens-big-and-tall-classic-polo-b9k001arpc-001-...</td>\n",
       "      <td>https://cdn.shopify.com/s/files/1/2304/1219/pr...</td>\n",
       "    </tr>\n",
       "    <tr>\n",
       "      <th>0</th>\n",
       "      <td>mens-big-and-tall-classic-polo-b9k001arpc-001-...</td>\n",
       "      <td>https://cdn.shopify.com/s/files/1/2304/1219/pr...</td>\n",
       "    </tr>\n",
       "    <tr>\n",
       "      <th>...</th>\n",
       "      <td>...</td>\n",
       "      <td>...</td>\n",
       "    </tr>\n",
       "    <tr>\n",
       "      <th>0</th>\n",
       "      <td>kids-carson-tee-bou329s1pc-001-black</td>\n",
       "      <td>https://cdn.shopify.com/s/files/1/2304/1219/pr...</td>\n",
       "    </tr>\n",
       "    <tr>\n",
       "      <th>0</th>\n",
       "      <td>kids-carson-tee-bou329s1pc-001-black</td>\n",
       "      <td>https://cdn.shopify.com/s/files/1/2304/1219/pr...</td>\n",
       "    </tr>\n",
       "    <tr>\n",
       "      <th>0</th>\n",
       "      <td>kids-carson-tee-bou329s1pc-001-black</td>\n",
       "      <td>https://cdn.shopify.com/s/files/1/2304/1219/pr...</td>\n",
       "    </tr>\n",
       "    <tr>\n",
       "      <th>0</th>\n",
       "      <td>kids-carson-tee-bou329s1pc-001-black</td>\n",
       "      <td>https://cdn.shopify.com/s/files/1/2304/1219/pr...</td>\n",
       "    </tr>\n",
       "    <tr>\n",
       "      <th>0</th>\n",
       "      <td>kids-carson-tee-bou329s1pc-001-black</td>\n",
       "      <td>https://cdn.shopify.com/s/files/1/2304/1219/pr...</td>\n",
       "    </tr>\n",
       "  </tbody>\n",
       "</table>\n",
       "<p>7211 rows × 2 columns</p>\n",
       "</div>"
      ],
      "text/plain": [
       "                                           Image_Name  \\\n",
       "0   mens-big-and-tall-classic-polo-b9k001arpc-001-...   \n",
       "0   mens-big-and-tall-classic-polo-b9k001arpc-001-...   \n",
       "0   mens-big-and-tall-classic-polo-b9k001arpc-001-...   \n",
       "0   mens-big-and-tall-classic-polo-b9k001arpc-001-...   \n",
       "0   mens-big-and-tall-classic-polo-b9k001arpc-001-...   \n",
       "..                                                ...   \n",
       "0                kids-carson-tee-bou329s1pc-001-black   \n",
       "0                kids-carson-tee-bou329s1pc-001-black   \n",
       "0                kids-carson-tee-bou329s1pc-001-black   \n",
       "0                kids-carson-tee-bou329s1pc-001-black   \n",
       "0                kids-carson-tee-bou329s1pc-001-black   \n",
       "\n",
       "                                                  URL  \n",
       "0   https://cdn.shopify.com/s/files/1/2304/1219/pr...  \n",
       "0   https://cdn.shopify.com/s/files/1/2304/1219/pr...  \n",
       "0   https://cdn.shopify.com/s/files/1/2304/1219/pr...  \n",
       "0   https://cdn.shopify.com/s/files/1/2304/1219/pr...  \n",
       "0   https://cdn.shopify.com/s/files/1/2304/1219/pr...  \n",
       "..                                                ...  \n",
       "0   https://cdn.shopify.com/s/files/1/2304/1219/pr...  \n",
       "0   https://cdn.shopify.com/s/files/1/2304/1219/pr...  \n",
       "0   https://cdn.shopify.com/s/files/1/2304/1219/pr...  \n",
       "0   https://cdn.shopify.com/s/files/1/2304/1219/pr...  \n",
       "0   https://cdn.shopify.com/s/files/1/2304/1219/pr...  \n",
       "\n",
       "[7211 rows x 2 columns]"
      ]
     },
     "execution_count": 21,
     "metadata": {},
     "output_type": "execute_result"
    }
   ],
   "source": [
    "image_url_df"
   ]
  },
  {
   "cell_type": "code",
   "execution_count": 22,
   "id": "f618dda1-1ad5-4951-a522-d7a119fca3b1",
   "metadata": {},
   "outputs": [],
   "source": [
    "image_url_df.to_csv(\"data/images_to_rec.csv\")"
   ]
  },
  {
   "cell_type": "code",
   "execution_count": null,
   "id": "34ae2524-bfb0-43ab-803c-0df4c1c6db22",
   "metadata": {},
   "outputs": [],
   "source": []
  },
  {
   "cell_type": "code",
   "execution_count": 17,
   "id": "4f63c0a0-c8ad-4d63-bd5b-d3a793d67c56",
   "metadata": {},
   "outputs": [
    {
     "ename": "TypeError",
     "evalue": "__init__() takes from 1 to 2 positional arguments but 3 were given",
     "output_type": "error",
     "traceback": [
      "\u001b[1;31m---------------------------------------------------------------------------\u001b[0m",
      "\u001b[1;31mTypeError\u001b[0m                                 Traceback (most recent call last)",
      "Input \u001b[1;32mIn [17]\u001b[0m, in \u001b[0;36m<cell line: 1>\u001b[1;34m()\u001b[0m\n\u001b[1;32m----> 1\u001b[0m site_links_df \u001b[38;5;241m=\u001b[39m \u001b[43mparse_sitemap\u001b[49m\u001b[43m(\u001b[49m\u001b[38;5;124;43m\"\u001b[39;49m\u001b[38;5;124;43mhttps://www.psychobunny.com/sitemap.xml\u001b[39;49m\u001b[38;5;124;43m\"\u001b[39;49m\u001b[43m,\u001b[49m\u001b[43m \u001b[49m\u001b[43m[\u001b[49m\u001b[38;5;124;43m\"\u001b[39;49m\u001b[38;5;124;43mloc\u001b[39;49m\u001b[38;5;124;43m\"\u001b[39;49m\u001b[43m]\u001b[49m\u001b[43m)\u001b[49m\n",
      "Input \u001b[1;32mIn [14]\u001b[0m, in \u001b[0;36mparse_sitemap\u001b[1;34m(url, headers)\u001b[0m\n\u001b[0;32m     14\u001b[0m     \u001b[38;5;28;01mreturn\u001b[39;00m \u001b[38;5;28;01mFalse\u001b[39;00m\n\u001b[0;32m     16\u001b[0m \u001b[38;5;66;03m# BeautifulSoup to parse the document\u001b[39;00m\n\u001b[1;32m---> 17\u001b[0m soup \u001b[38;5;241m=\u001b[39m \u001b[43mSoup\u001b[49m\u001b[43m(\u001b[49m\u001b[43mresp\u001b[49m\u001b[38;5;241;43m.\u001b[39;49m\u001b[43mcontent\u001b[49m\u001b[43m,\u001b[49m\u001b[43m \u001b[49m\u001b[38;5;124;43m\"\u001b[39;49m\u001b[38;5;124;43mxml\u001b[39;49m\u001b[38;5;124;43m\"\u001b[39;49m\u001b[43m)\u001b[49m\n\u001b[0;32m     19\u001b[0m \u001b[38;5;66;03m# find all the <url> tags in the document\u001b[39;00m\n\u001b[0;32m     20\u001b[0m urls \u001b[38;5;241m=\u001b[39m soup\u001b[38;5;241m.\u001b[39mfindAll(\u001b[38;5;124m'\u001b[39m\u001b[38;5;124murl\u001b[39m\u001b[38;5;124m'\u001b[39m)\n",
      "\u001b[1;31mTypeError\u001b[0m: __init__() takes from 1 to 2 positional arguments but 3 were given"
     ]
    }
   ],
   "source": [
    "site_links_df = parse_sitemap(\"https://www.psychobunny.com/sitemap.xml\", [\"loc\"])"
   ]
  },
  {
   "cell_type": "code",
   "execution_count": 16,
   "id": "e713b9d7-6cf1-4074-8095-678da6dc449d",
   "metadata": {},
   "outputs": [
    {
     "data": {
      "text/plain": [
       "'mens-bailey-sweat-shorts-b6r518r1ft-410-navy'"
      ]
     },
     "execution_count": 16,
     "metadata": {},
     "output_type": "execute_result"
    }
   ],
   "source": [
    "site_links_df[\"loc\"][550].split(\"/\")[-1]"
   ]
  },
  {
   "cell_type": "code",
   "execution_count": 192,
   "id": "aedcae74-00bb-483f-a0e3-38230d1bbf71",
   "metadata": {},
   "outputs": [
    {
     "ename": "TypeError",
     "evalue": "'Soup' object is not iterable",
     "output_type": "error",
     "traceback": [
      "\u001b[1;31m---------------------------------------------------------------------------\u001b[0m",
      "\u001b[1;31mTypeError\u001b[0m                                 Traceback (most recent call last)",
      "Input \u001b[1;32mIn [192]\u001b[0m, in \u001b[0;36m<cell line: 7>\u001b[1;34m()\u001b[0m\n\u001b[0;32m      9\u001b[0m soup \u001b[38;5;241m=\u001b[39m Soup\u001b[38;5;241m.\u001b[39mget(url)\n\u001b[0;32m     11\u001b[0m image_containers \u001b[38;5;241m=\u001b[39m soup\u001b[38;5;241m.\u001b[39mfind(\u001b[38;5;124m'\u001b[39m\u001b[38;5;124mimg\u001b[39m\u001b[38;5;124m'\u001b[39m, {\u001b[38;5;124m'\u001b[39m\u001b[38;5;124mclass\u001b[39m\u001b[38;5;124m'\u001b[39m:\u001b[38;5;124m'\u001b[39m\u001b[38;5;124mImage--lazyLoad Image--fadeIn\u001b[39m\u001b[38;5;124m'\u001b[39m})\n\u001b[1;32m---> 13\u001b[0m \u001b[38;5;28;01mfor\u001b[39;00m image \u001b[38;5;129;01min\u001b[39;00m image_containers:\n\u001b[0;32m     14\u001b[0m     \u001b[38;5;28;01mfor\u001b[39;00m t \u001b[38;5;129;01min\u001b[39;00m image\u001b[38;5;241m.\u001b[39mattrs:\n\u001b[0;32m     15\u001b[0m         \u001b[38;5;28;01mif\u001b[39;00m t \u001b[38;5;241m==\u001b[39m \u001b[38;5;124m\"\u001b[39m\u001b[38;5;124msrc\u001b[39m\u001b[38;5;124m\"\u001b[39m:\n",
      "\u001b[1;31mTypeError\u001b[0m: 'Soup' object is not iterable"
     ]
    }
   ],
   "source": [
    "from pathlib import Path\n",
    "from urllib.request import urlretrieve as download\n",
    "from gazpacho import Soup\n",
    "\n",
    "# url = 'https://www.psychobunny.com/collections/swimwear-bathing-suits/products/mens-everett-swim-trunks-b6w326s1po675-love-pink?nosto_source=cmp&nosto=6245b2db9e91740d7eab687a'\n",
    "id = 1\n",
    "for url in site_links_df[\"loc\"]:\n",
    "    \n",
    "    soup = Soup.get(url)\n",
    "\n",
    "    image_containers = soup.find('img', {'class':'Image--lazyLoad Image--fadeIn'})\n",
    "\n",
    "    for image in image_containers:\n",
    "        for t in image.attrs:\n",
    "            if t == \"src\":\n",
    "                image_url = \"https:\" + image.attrs[t]\n",
    "                #print(image.attrs[t])\n",
    "                directory = \"images\"\n",
    "                Path(directory).mkdir(exist_ok=True)\n",
    "                download(image_url, f\"{directory}/{str(id)}.jpg\")\n",
    "                id += 1\n",
    "            \n",
    "            elif t == \"data-original-src\":\n",
    "                print(image.attrs[t])\n",
    "                "
   ]
  },
  {
   "cell_type": "markdown",
   "id": "148a3149-9100-44f3-ac2d-e874397581f2",
   "metadata": {
    "jp-MarkdownHeadingCollapsed": true,
    "tags": []
   },
   "source": [
    "# APPENDEX"
   ]
  },
  {
   "cell_type": "code",
   "execution_count": 119,
   "id": "79e13289-5626-4aa8-b084-95fcc738cda8",
   "metadata": {},
   "outputs": [],
   "source": [
    "image = soup.find('img')"
   ]
  },
  {
   "cell_type": "code",
   "execution_count": 141,
   "id": "34b621f9-1b31-481a-a136-daf0c12d4b5f",
   "metadata": {},
   "outputs": [
    {
     "ename": "NameError",
     "evalue": "name 'data' is not defined",
     "output_type": "error",
     "traceback": [
      "\u001b[1;31m---------------------------------------------------------------------------\u001b[0m",
      "\u001b[1;31mNameError\u001b[0m                                 Traceback (most recent call last)",
      "Input \u001b[1;32mIn [141]\u001b[0m, in \u001b[0;36m<cell line: 1>\u001b[1;34m()\u001b[0m\n\u001b[1;32m----> 1\u001b[0m image[\u001b[38;5;241m0\u001b[39m]\u001b[38;5;241m.\u001b[39mfind(\u001b[38;5;124m'\u001b[39m\u001b[38;5;124mimg\u001b[39m\u001b[38;5;124m'\u001b[39m)\u001b[38;5;241m.\u001b[39mtag(\u001b[43mdata\u001b[49m\u001b[38;5;241m-\u001b[39msrc)\n",
      "\u001b[1;31mNameError\u001b[0m: name 'data' is not defined"
     ]
    }
   ],
   "source": [
    "image[0].find('img').tag(data-src)"
   ]
  },
  {
   "cell_type": "code",
   "execution_count": 122,
   "id": "dcde6032-582f-4de9-a554-0c381df9b3a7",
   "metadata": {},
   "outputs": [
    {
     "ename": "AttributeError",
     "evalue": "'list' object has no attribute 'split'",
     "output_type": "error",
     "traceback": [
      "\u001b[1;31m---------------------------------------------------------------------------\u001b[0m",
      "\u001b[1;31mAttributeError\u001b[0m                            Traceback (most recent call last)",
      "Input \u001b[1;32mIn [122]\u001b[0m, in \u001b[0;36m<cell line: 4>\u001b[1;34m()\u001b[0m\n\u001b[0;32m      1\u001b[0m directory \u001b[38;5;241m=\u001b[39m \u001b[38;5;124m\"\u001b[39m\u001b[38;5;124mimages\u001b[39m\u001b[38;5;124m\"\u001b[39m\n\u001b[0;32m      2\u001b[0m Path(directory)\u001b[38;5;241m.\u001b[39mmkdir(exist_ok\u001b[38;5;241m=\u001b[39m\u001b[38;5;28;01mTrue\u001b[39;00m)\n\u001b[1;32m----> 4\u001b[0m extension \u001b[38;5;241m=\u001b[39m \u001b[43mimage\u001b[49m\u001b[38;5;241;43m.\u001b[39;49m\u001b[43msplit\u001b[49m(\u001b[38;5;124m'\u001b[39m\u001b[38;5;124m.\u001b[39m\u001b[38;5;124m'\u001b[39m)[\u001b[38;5;241m-\u001b[39m\u001b[38;5;241m1\u001b[39m]\n\u001b[0;32m      5\u001b[0m download(image, \u001b[38;5;124mf\u001b[39m\u001b[38;5;124m\"\u001b[39m\u001b[38;5;132;01m{\u001b[39;00mdirectory\u001b[38;5;132;01m}\u001b[39;00m\u001b[38;5;124m/\u001b[39m\u001b[38;5;132;01m{\u001b[39;00m\u001b[38;5;28mid\u001b[39m\u001b[38;5;132;01m}\u001b[39;00m\u001b[38;5;124m.\u001b[39m\u001b[38;5;132;01m{\u001b[39;00mextension\u001b[38;5;132;01m}\u001b[39;00m\u001b[38;5;124m\"\u001b[39m)\n",
      "\u001b[1;31mAttributeError\u001b[0m: 'list' object has no attribute 'split'"
     ]
    }
   ],
   "source": [
    "directory = \"images\"\n",
    "Path(directory).mkdir(exist_ok=True)\n",
    "\n",
    "extension = image.split('.')[-1]\n",
    "download(image, f\"{directory}/{id}.{extension}\")"
   ]
  },
  {
   "cell_type": "code",
   "execution_count": 152,
   "id": "693070c8-1d61-46b5-9cd7-54dbb12435db",
   "metadata": {},
   "outputs": [
    {
     "data": {
      "text/plain": [
       "<img src=\"https://cdn.shopify.com/s/files/1/2304/1219/files/Curalate_PDP.jpg\">"
      ]
     },
     "execution_count": 152,
     "metadata": {},
     "output_type": "execute_result"
    }
   ],
   "source": [
    "image"
   ]
  },
  {
   "cell_type": "code",
   "execution_count": null,
   "id": "47fe1da3-0a17-4627-b3cb-7eeaf2f9d0bc",
   "metadata": {},
   "outputs": [],
   "source": []
  },
  {
   "cell_type": "code",
   "execution_count": null,
   "id": "a7239e66-fe96-48c8-97d6-cf65f07a0447",
   "metadata": {},
   "outputs": [],
   "source": []
  },
  {
   "cell_type": "code",
   "execution_count": null,
   "id": "44d6e000-6bb1-42a9-b7cf-21140308206f",
   "metadata": {},
   "outputs": [],
   "source": []
  },
  {
   "cell_type": "code",
   "execution_count": null,
   "id": "04359964-9036-4e76-a50c-6a9fda66d321",
   "metadata": {},
   "outputs": [],
   "source": []
  },
  {
   "cell_type": "code",
   "execution_count": null,
   "id": "3b2eba84-52a4-4a02-acf5-e146ad6d89c1",
   "metadata": {},
   "outputs": [],
   "source": []
  },
  {
   "cell_type": "code",
   "execution_count": null,
   "id": "aff52ac0-cf55-4b13-b3fd-03b1216971a5",
   "metadata": {},
   "outputs": [],
   "source": [
    "import requests\n",
    "from bs4 import BeautifulSoup"
   ]
  },
  {
   "cell_type": "code",
   "execution_count": 153,
   "id": "4a11ad12-da02-443e-96e9-5e545a63d073",
   "metadata": {},
   "outputs": [],
   "source": [
    "url = 'https://www.psychobunny.com/collections/swimwear-bathing-suits/products/mens-everett-swim-trunks-b6w326s1po675-love-pink?nosto_source=cmp&nosto=6245b2db9e91740d7eab687a'\n",
    "html = requests.get(url).text"
   ]
  },
  {
   "cell_type": "code",
   "execution_count": 154,
   "id": "fdc334ea-29ad-4ec1-995f-3e0042769f89",
   "metadata": {},
   "outputs": [],
   "source": [
    "soup = BeautifulSoup(html, 'html.parser')"
   ]
  },
  {
   "cell_type": "code",
   "execution_count": 162,
   "id": "516ce193-2557-4662-bda3-8eade19e86c9",
   "metadata": {},
   "outputs": [],
   "source": [
    "image = soup.find('img')"
   ]
  },
  {
   "cell_type": "code",
   "execution_count": 163,
   "id": "ffed0802-380c-4f2c-b74d-beda42f33379",
   "metadata": {},
   "outputs": [
    {
     "data": {
      "text/plain": [
       "[<img class=\"lazyload\" data-src=\"https://cdn.shopify.com/s/files/1/2304/1219/files/update_your_browser_popup_V1_03.jpg?v=1579636488\">,\n",
       " <img class=\"lazyload\" data-src=\"https://cdn.shopify.com/s/files/1/2304/1219/files/update_your_browser_popup_V1_05.jpg?v=1579636495\">,\n",
       " <img class=\"lazyload\" data-src=\"https://cdn.shopify.com/s/files/1/2304/1219/files/update_your_browser_popup_V1_09.jpg?v=1579636503\">,\n",
       " <img src=\"https://cdn.shopify.com/s/files/1/2304/1219/files/sticky_nav_desktop_logo_48.png?v=1582739685\" style=\"width: 50%;\">,\n",
       " <img class=\"Header__LogoImage Header__LogoImage--primary\" src=\"//cdn.shopify.com/s/files/1/2304/1219/files/new-logo_x4_fabba486-3288-48c4-80d6-dfb090d4e068_200x.png?v=1623664375\" srcset=\"//cdn.shopify.com/s/files/1/2304/1219/files/new-logo_x4_fabba486-3288-48c4-80d6-dfb090d4e068_200x.png?v=1623664375 1x, //cdn.shopify.com/s/files/1/2304/1219/files/new-logo_x4_fabba486-3288-48c4-80d6-dfb090d4e068_200x@2x.png?v=1623664375 2x\" width=\"200\" alt=\"Psycho Bunny\">,\n",
       " <img loading=\"lazy\" src=\"//cdn.shopify.com/s/files/1/2304/1219/products/B6W326S1PO-LPI_2_160x.jpg?v=1648034484\">,\n",
       " <img loading=\"lazy\" src=\"//cdn.shopify.com/s/files/1/2304/1219/products/B6W326S1PO-LPI_1_160x.jpg?v=1648034484\">,\n",
       " <img loading=\"lazy\" src=\"//cdn.shopify.com/s/files/1/2304/1219/products/B6W326S1PO-LPI_3_160x.jpg?v=1647532294\">,\n",
       " <img loading=\"lazy\" src=\"//cdn.shopify.com/s/files/1/2304/1219/products/B6W326S1PO-LPI_4_160x.jpg?v=1647532294\">,\n",
       " <img class=\"Image--lazyLoad Image--fadeIn\" src=\"//cdn.shopify.com/s/files/1/2304/1219/products/B6W326S1PO-LPI_2_250x.jpg?v=1648034484\" data-src=\"//cdn.shopify.com/s/files/1/2304/1219/products/B6W326S1PO-LPI_2_{width}x.jpg?v=1648034484\" data-widths=\"[200,400,600,700,800,900,1000,1200,1400]\" data-sizes=\"auto\" data-expand=\"-100\" alt=\"MENS EVERETT SWIM TRUNKS - B6W326S1PO - 675 Love Pink\" data-max-width=\"1500\" data-max-height=\"1870\" data-original-src=\"//cdn.shopify.com/s/files/1/2304/1219/products/B6W326S1PO-LPI_2.jpg?v=1648034484\">,\n",
       " <img src=\"//cdn.shopify.com/s/files/1/2304/1219/products/B6W326S1PO-LPI_2_800x.jpg?v=1648034484\" alt=\"MENS EVERETT SWIM TRUNKS - B6W326S1PO - 675 Love Pink\">,\n",
       " <img class=\"Image--lazyLoad Image--fadeIn\" data-src=\"//cdn.shopify.com/s/files/1/2304/1219/products/B6W326S1PO-LPI_1_{width}x.jpg?v=1648034484\" data-widths=\"[200,400,600,700,800,900,1000,1200,1400]\" data-sizes=\"auto\" data-expand=\"-100\" alt=\"MENS EVERETT SWIM TRUNKS - B6W326S1PO - 675 Love Pink\" data-max-width=\"1500\" data-max-height=\"1870\" data-original-src=\"//cdn.shopify.com/s/files/1/2304/1219/products/B6W326S1PO-LPI_1.jpg?v=1648034484\">,\n",
       " <img src=\"//cdn.shopify.com/s/files/1/2304/1219/products/B6W326S1PO-LPI_1_800x.jpg?v=1648034484\" alt=\"MENS EVERETT SWIM TRUNKS - B6W326S1PO - 675 Love Pink\">,\n",
       " <img class=\"Image--lazyLoad Image--fadeIn\" data-src=\"//cdn.shopify.com/s/files/1/2304/1219/products/B6W326S1PO-LPI_3_{width}x.jpg?v=1647532294\" data-widths=\"[200,400,600,700,800,900,1000,1200,1400]\" data-sizes=\"auto\" data-expand=\"-100\" alt=\"MENS EVERETT SWIM TRUNKS - B6W326S1PO - 675 Love Pink\" data-max-width=\"1500\" data-max-height=\"1870\" data-original-src=\"//cdn.shopify.com/s/files/1/2304/1219/products/B6W326S1PO-LPI_3.jpg?v=1647532294\">,\n",
       " <img src=\"//cdn.shopify.com/s/files/1/2304/1219/products/B6W326S1PO-LPI_3_800x.jpg?v=1647532294\" alt=\"MENS EVERETT SWIM TRUNKS - B6W326S1PO - 675 Love Pink\">,\n",
       " <img class=\"Image--lazyLoad Image--fadeIn\" data-src=\"//cdn.shopify.com/s/files/1/2304/1219/products/B6W326S1PO-LPI_4_{width}x.jpg?v=1647532294\" data-widths=\"[200,400,600,700,800,900,1000,1200,1400]\" data-sizes=\"auto\" data-expand=\"-100\" alt=\"MENS EVERETT SWIM TRUNKS - B6W326S1PO - 675 Love Pink\" data-max-width=\"1500\" data-max-height=\"1870\" data-original-src=\"//cdn.shopify.com/s/files/1/2304/1219/products/B6W326S1PO-LPI_4.jpg?v=1647532294\">,\n",
       " <img src=\"//cdn.shopify.com/s/files/1/2304/1219/products/B6W326S1PO-LPI_4_800x.jpg?v=1647532294\" alt=\"MENS EVERETT SWIM TRUNKS - B6W326S1PO - 675 Love Pink\">,\n",
       " <img class=\"swatch-image-mobile js-selected-color-image-mobile\" src=\"//cdn.shopify.com/s/files/1/2304/1219/products/B6W326S1PO-LPI_sw_13x13.jpg?v=1648034696\" alt=\"color\">,\n",
       " <img src=\"https://cdn.shopify.com/s/files/1/2304/1219/files/Curalate_PDP.jpg\">]"
      ]
     },
     "execution_count": 163,
     "metadata": {},
     "output_type": "execute_result"
    }
   ],
   "source": [
    "image"
   ]
  },
  {
   "cell_type": "code",
   "execution_count": null,
   "id": "ab104640-05eb-402a-b84f-f8edc372143e",
   "metadata": {},
   "outputs": [],
   "source": []
  },
  {
   "cell_type": "code",
   "execution_count": null,
   "id": "e94c11ef-611a-4f59-903d-f7c20459f100",
   "metadata": {},
   "outputs": [],
   "source": []
  },
  {
   "cell_type": "code",
   "execution_count": null,
   "id": "71f56da4-fb86-4af0-9283-02aa740e825b",
   "metadata": {},
   "outputs": [],
   "source": []
  },
  {
   "cell_type": "code",
   "execution_count": null,
   "id": "478c9c91-8448-4876-bf95-be252c83fb78",
   "metadata": {},
   "outputs": [],
   "source": []
  },
  {
   "cell_type": "code",
   "execution_count": null,
   "id": "cbb12503-77cb-40df-9fcb-be2737ad6ece",
   "metadata": {},
   "outputs": [],
   "source": []
  },
  {
   "cell_type": "code",
   "execution_count": null,
   "id": "147094f5-e90f-4817-914c-417a1a8cafea",
   "metadata": {},
   "outputs": [],
   "source": []
  },
  {
   "cell_type": "code",
   "execution_count": 157,
   "id": "7bb48e7d-5d01-4e79-af6b-be555842cebb",
   "metadata": {},
   "outputs": [],
   "source": [
    "image = (soup\n",
    "    .find(\"img\")\n",
    "    # .attrs['src']\n",
    ")\n",
    "\n",
    "# image = (soup\n",
    "#     .find(\"div\", {\"id\": \"title-overview\"})\n",
    "#     .find(\"div\", {\"class\": \"poster\"})\n",
    "#     .find(\"img\")\n",
    "#     .attrs['src']\n",
    "# )"
   ]
  },
  {
   "cell_type": "code",
   "execution_count": 158,
   "id": "1869ba8e-547b-4961-8ff3-15d72529ec9b",
   "metadata": {},
   "outputs": [],
   "source": [
    "test = soup.find({'class':'img'})\n",
    "test"
   ]
  },
  {
   "cell_type": "code",
   "execution_count": 159,
   "id": "5834d1cc-78cf-4e8e-83b8-52353ac793bb",
   "metadata": {},
   "outputs": [
    {
     "data": {
      "text/plain": [
       "NoneType"
      ]
     },
     "execution_count": 159,
     "metadata": {},
     "output_type": "execute_result"
    }
   ],
   "source": [
    "type(test)"
   ]
  },
  {
   "cell_type": "code",
   "execution_count": 160,
   "id": "cdc954d1-a3f9-4a53-a3f7-a17e57281adb",
   "metadata": {},
   "outputs": [
    {
     "ename": "KeyError",
     "evalue": "0",
     "output_type": "error",
     "traceback": [
      "\u001b[1;31m---------------------------------------------------------------------------\u001b[0m",
      "\u001b[1;31mKeyError\u001b[0m                                  Traceback (most recent call last)",
      "Input \u001b[1;32mIn [160]\u001b[0m, in \u001b[0;36m<cell line: 1>\u001b[1;34m()\u001b[0m\n\u001b[1;32m----> 1\u001b[0m \u001b[38;5;28mprint\u001b[39m(\u001b[43mimage\u001b[49m\u001b[43m[\u001b[49m\u001b[38;5;241;43m0\u001b[39;49m\u001b[43m]\u001b[49m\u001b[38;5;241m.\u001b[39mfind(\u001b[38;5;124m\"\u001b[39m\u001b[38;5;124mdata-src\u001b[39m\u001b[38;5;124m\"\u001b[39m))\n",
      "File \u001b[1;32m~\\miniconda3\\lib\\site-packages\\bs4\\element.py:1486\u001b[0m, in \u001b[0;36mTag.__getitem__\u001b[1;34m(self, key)\u001b[0m\n\u001b[0;32m   1483\u001b[0m \u001b[38;5;28;01mdef\u001b[39;00m \u001b[38;5;21m__getitem__\u001b[39m(\u001b[38;5;28mself\u001b[39m, key):\n\u001b[0;32m   1484\u001b[0m     \u001b[38;5;124;03m\"\"\"tag[key] returns the value of the 'key' attribute for the Tag,\u001b[39;00m\n\u001b[0;32m   1485\u001b[0m \u001b[38;5;124;03m    and throws an exception if it's not there.\"\"\"\u001b[39;00m\n\u001b[1;32m-> 1486\u001b[0m     \u001b[38;5;28;01mreturn\u001b[39;00m \u001b[38;5;28;43mself\u001b[39;49m\u001b[38;5;241;43m.\u001b[39;49m\u001b[43mattrs\u001b[49m\u001b[43m[\u001b[49m\u001b[43mkey\u001b[49m\u001b[43m]\u001b[49m\n",
      "\u001b[1;31mKeyError\u001b[0m: 0"
     ]
    }
   ],
   "source": [
    "print(image[0].find(\"data-src\"))"
   ]
  },
  {
   "cell_type": "code",
   "execution_count": 57,
   "id": "63cb2c45-b390-4466-99ba-4238416d9d20",
   "metadata": {},
   "outputs": [
    {
     "name": "stdout",
     "output_type": "stream",
     "text": [
      "<img class=\"lazyload\" data-src=\"https://cdn.shopify.com/s/files/1/2304/1219/files/update_your_browser_popup_V1_03.jpg?v=1579636488\"/>\n"
     ]
    },
    {
     "ename": "KeyError",
     "evalue": "'data-original-src'",
     "output_type": "error",
     "traceback": [
      "\u001b[1;31m---------------------------------------------------------------------------\u001b[0m",
      "\u001b[1;31mKeyError\u001b[0m                                  Traceback (most recent call last)",
      "Input \u001b[1;32mIn [57]\u001b[0m, in \u001b[0;36m<cell line: 13>\u001b[1;34m()\u001b[0m\n\u001b[0;32m     11\u001b[0m image \u001b[38;5;241m=\u001b[39m soup\u001b[38;5;241m.\u001b[39mfind(\u001b[38;5;124m'\u001b[39m\u001b[38;5;124mimg\u001b[39m\u001b[38;5;124m'\u001b[39m)\n\u001b[0;32m     12\u001b[0m \u001b[38;5;28mprint\u001b[39m(image)\n\u001b[1;32m---> 13\u001b[0m image_url \u001b[38;5;241m=\u001b[39m \u001b[43mimage\u001b[49m\u001b[43m[\u001b[49m\u001b[38;5;124;43m'\u001b[39;49m\u001b[38;5;124;43mdata-original-src\u001b[39;49m\u001b[38;5;124;43m'\u001b[39;49m\u001b[43m]\u001b[49m\n\u001b[0;32m     16\u001b[0m img \u001b[38;5;241m=\u001b[39m Image\u001b[38;5;241m.\u001b[39mopen(requests\u001b[38;5;241m.\u001b[39mget(image_url, stream \u001b[38;5;241m=\u001b[39m \u001b[38;5;28;01mTrue\u001b[39;00m)\u001b[38;5;241m.\u001b[39mraw)\n\u001b[0;32m     18\u001b[0m img\u001b[38;5;241m.\u001b[39msave(\u001b[38;5;124m'\u001b[39m\u001b[38;5;124mimage.jpg\u001b[39m\u001b[38;5;124m'\u001b[39m)\n",
      "File \u001b[1;32m~\\miniconda3\\lib\\site-packages\\bs4\\element.py:1486\u001b[0m, in \u001b[0;36mTag.__getitem__\u001b[1;34m(self, key)\u001b[0m\n\u001b[0;32m   1483\u001b[0m \u001b[38;5;28;01mdef\u001b[39;00m \u001b[38;5;21m__getitem__\u001b[39m(\u001b[38;5;28mself\u001b[39m, key):\n\u001b[0;32m   1484\u001b[0m     \u001b[38;5;124;03m\"\"\"tag[key] returns the value of the 'key' attribute for the Tag,\u001b[39;00m\n\u001b[0;32m   1485\u001b[0m \u001b[38;5;124;03m    and throws an exception if it's not there.\"\"\"\u001b[39;00m\n\u001b[1;32m-> 1486\u001b[0m     \u001b[38;5;28;01mreturn\u001b[39;00m \u001b[38;5;28;43mself\u001b[39;49m\u001b[38;5;241;43m.\u001b[39;49m\u001b[43mattrs\u001b[49m\u001b[43m[\u001b[49m\u001b[43mkey\u001b[49m\u001b[43m]\u001b[49m\n",
      "\u001b[1;31mKeyError\u001b[0m: 'data-original-src'"
     ]
    }
   ],
   "source": [
    "from PIL import Image\n",
    "import requests\n",
    "import bs4\n",
    "\n",
    "url = 'https://www.psychobunny.com/collections/swimwear-bathing-suits/products/mens-everett-swim-trunks-b6w326s1po675-love-pink?nosto_source=cmp&nosto=6245b2db9e91740d7eab687a'\n",
    "\n",
    "response = requests.get(url)\n",
    "\n",
    "soup = bs4.BeautifulSoup(response.text, 'html.parser')\n",
    "\n",
    "image = soup.find('img')\n",
    "print(image)\n",
    "image_url = image['data-original-src']\n",
    "\n",
    "img = Image.open(requests.get(image_url, stream = True).raw)\n",
    "\n",
    "img.save('image.jpg')"
   ]
  },
  {
   "cell_type": "code",
   "execution_count": 59,
   "id": "cab3c5b4-3cd2-477b-869c-30eb86883cca",
   "metadata": {},
   "outputs": [
    {
     "ename": "NameError",
     "evalue": "name 'urllib2' is not defined",
     "output_type": "error",
     "traceback": [
      "\u001b[1;31m---------------------------------------------------------------------------\u001b[0m",
      "\u001b[1;31mNameError\u001b[0m                                 Traceback (most recent call last)",
      "Input \u001b[1;32mIn [59]\u001b[0m, in \u001b[0;36m<cell line: 1>\u001b[1;34m()\u001b[0m\n\u001b[1;32m----> 1\u001b[0m soup \u001b[38;5;241m=\u001b[39m BeautifulSoup(\u001b[43murllib2\u001b[49m\u001b[38;5;241m.\u001b[39murlopen(url)\u001b[38;5;241m.\u001b[39mread())\n\u001b[0;32m      2\u001b[0m link \u001b[38;5;241m=\u001b[39m soup\u001b[38;5;241m.\u001b[39mfind(itemprop\u001b[38;5;241m=\u001b[39m\u001b[38;5;124m\"\u001b[39m\u001b[38;5;124mimage\u001b[39m\u001b[38;5;124m\"\u001b[39m)\n\u001b[0;32m      3\u001b[0m \u001b[38;5;28mprint\u001b[39m(link[\u001b[38;5;124m\"\u001b[39m\u001b[38;5;124msrc\u001b[39m\u001b[38;5;124m\"\u001b[39m])\n",
      "\u001b[1;31mNameError\u001b[0m: name 'urllib2' is not defined"
     ]
    }
   ],
   "source": [
    "soup = BeautifulSoup(urllib2.urlopen(url).read())\n",
    "link = soup.find(itemprop=\"image\")\n",
    "print(link[\"src\"])"
   ]
  },
  {
   "cell_type": "code",
   "execution_count": 58,
   "id": "b086e5cb-234d-45c8-9caf-b70c4afbd920",
   "metadata": {},
   "outputs": [
    {
     "data": {
      "text/plain": [
       "<img class=\"lazyload\" data-src=\"https://cdn.shopify.com/s/files/1/2304/1219/files/update_your_browser_popup_V1_03.jpg?v=1579636488\"/>"
      ]
     },
     "execution_count": 58,
     "metadata": {},
     "output_type": "execute_result"
    }
   ],
   "source": [
    "image"
   ]
  },
  {
   "cell_type": "code",
   "execution_count": null,
   "id": "635fe6c5-0baa-474e-96da-7912bcd05090",
   "metadata": {},
   "outputs": [],
   "source": [
    "<img class=\"Image--fadeIn lazyautosizes Image--lazyLoaded\" src=\"//cdn.shopify.com/s/files/1/2304/1219/products/B6W326S1PO-LPI_2_250x.jpg?v=1648034484\" data-widths=\"[200,400,600,700,800,900,1000,1200,1400]\" data-sizes=\"auto\" data-expand=\"-100\" alt=\"MENS EVERETT SWIM TRUNKS - B6W326S1PO - 675 Love Pink\" data-max-width=\"1500\" data-max-height=\"1870\" data-original-src=\"//cdn.shopify.com/s/files/1/2304/1219/products/B6W326S1PO-LPI_2.jpg?v=1648034484\" data-srcset=\"//cdn.shopify.com/s/files/1/2304/1219/products/B6W326S1PO-LPI_2_200x.jpg?v=1648034484 200w, //cdn.shopify.com/s/files/1/2304/1219/products/B6W326S1PO-LPI_2_400x.jpg?v=1648034484 400w, //cdn.shopify.com/s/files/1/2304/1219/products/B6W326S1PO-LPI_2_600x.jpg?v=1648034484 600w, //cdn.shopify.com/s/files/1/2304/1219/products/B6W326S1PO-LPI_2_700x.jpg?v=1648034484 700w, //cdn.shopify.com/s/files/1/2304/1219/products/B6W326S1PO-LPI_2_800x.jpg?v=1648034484 800w, //cdn.shopify.com/s/files/1/2304/1219/products/B6W326S1PO-LPI_2_900x.jpg?v=1648034484 900w, //cdn.shopify.com/s/files/1/2304/1219/products/B6W326S1PO-LPI_2_1000x.jpg?v=1648034484 1000w, //cdn.shopify.com/s/files/1/2304/1219/products/B6W326S1PO-LPI_2_1200x.jpg?v=1648034484 1200w, //cdn.shopify.com/s/files/1/2304/1219/products/B6W326S1PO-LPI_2_1400x.jpg?v=1648034484 1400w\" sizes=\"931px\" srcset=\"//cdn.shopify.com/s/files/1/2304/1219/products/B6W326S1PO-LPI_2_200x.jpg?v=1648034484 200w, //cdn.shopify.com/s/files/1/2304/1219/products/B6W326S1PO-LPI_2_400x.jpg?v=1648034484 400w, //cdn.shopify.com/s/files/1/2304/1219/products/B6W326S1PO-LPI_2_600x.jpg?v=1648034484 600w, //cdn.shopify.com/s/files/1/2304/1219/products/B6W326S1PO-LPI_2_700x.jpg?v=1648034484 700w, //cdn.shopify.com/s/files/1/2304/1219/products/B6W326S1PO-LPI_2_800x.jpg?v=1648034484 800w, //cdn.shopify.com/s/files/1/2304/1219/products/B6W326S1PO-LPI_2_900x.jpg?v=1648034484 900w, //cdn.shopify.com/s/files/1/2304/1219/products/B6W326S1PO-LPI_2_1000x.jpg?v=1648034484 1000w, //cdn.shopify.com/s/files/1/2304/1219/products/B6W326S1PO-LPI_2_1200x.jpg?v=1648034484 1200w, //cdn.shopify.com/s/files/1/2304/1219/products/B6W326S1PO-LPI_2_1400x.jpg?v=1648034484 1400w\">"
   ]
  },
  {
   "cell_type": "code",
   "execution_count": 41,
   "id": "49524208-26a9-462c-906b-5bf511473bf9",
   "metadata": {},
   "outputs": [
    {
     "name": "stdout",
     "output_type": "stream",
     "text": [
      "[]\n"
     ]
    }
   ],
   "source": [
    "from bs4 import BeautifulSoup\n",
    "import urllib.request\n",
    "import requests\n",
    "\n",
    "# setting URL destination \n",
    "url = site_links_df[\"loc\"][0]\n",
    "\n",
    "# retrieving HTML payload from the website\n",
    "response = requests.get(url)\n",
    "\n",
    "# using BeautifulSoup to parse the response object\n",
    "soup = BeautifulSoup(response.content, \"html.parser\")\n",
    "\n",
    "# finding Post images in the soup\n",
    "images = soup.find_all(\"img src\", attrs={\"alt\":\"Post image\"})\n",
    "\n",
    "print(images)\n",
    "\n",
    "# downloading images\n",
    "number = 0\n",
    "for image in images:\n",
    "    print(image[\"img src\"])\n",
    "    image_src = image[\"img src\"]\n",
    "    urllib.request.urlretrieve(image_src, str(number))\n",
    "    number += 1"
   ]
  },
  {
   "cell_type": "code",
   "execution_count": 46,
   "id": "469665e0-03a7-42df-b593-254d8750eb9c",
   "metadata": {},
   "outputs": [
    {
     "name": "stdin",
     "output_type": "stream",
     "text": [
      "Enter URL:-  https://www.psychobunny.com/collections/swimwear-bathing-suits/products/mens-everett-swim-trunks-b6w326s1po675-love-pink?nosto_source=cmp&nosto=6245b2db9e91740d7eab687a\n",
      "Enter Folder Name:-  st\n"
     ]
    },
    {
     "name": "stdout",
     "output_type": "stream",
     "text": [
      "Total 19 Image Found!\n",
      "Total 2 Images Downloaded Out of 19\n"
     ]
    }
   ],
   "source": [
    "from bs4 import *\n",
    "import requests\n",
    "import os\n",
    " \n",
    "# CREATE FOLDER\n",
    "def folder_create(images):\n",
    "    try:\n",
    "        folder_name = input(\"Enter Folder Name:- \")\n",
    "        # folder creation\n",
    "        os.mkdir(folder_name)\n",
    " \n",
    "    # if folder exists with that name, ask another name\n",
    "    except:\n",
    "        print(\"Folder Exist with that name! Enter New Name\")\n",
    "        folder_name = input(\"Enter Folder Name:- \")\n",
    "        folder_create()\n",
    " \n",
    "    # image downloading start\n",
    "    download_images(images, folder_name)\n",
    " \n",
    " \n",
    "# DOWNLOAD ALL IMAGES FROM THAT URL\n",
    "def download_images(images, folder_name):\n",
    "   \n",
    "    # initial count is zero\n",
    "    count = 0\n",
    " \n",
    "    # print total images found in URL\n",
    "    print(f\"Total {len(images)} Image Found!\")\n",
    " \n",
    "    # checking if images is not zero\n",
    "    if len(images) != 0:\n",
    "        for i, image in enumerate(images):\n",
    "            # From image tag ,Fetch image Source URL\n",
    " \n",
    "                        # 1.data-srcset\n",
    "                        # 2.data-src\n",
    "                        # 3.data-fallback-src\n",
    "                        # 4.src\n",
    " \n",
    "            # Here we will use exception handling\n",
    " \n",
    "            # first we will search for \"data-srcset\" in img tag\n",
    "            try:\n",
    "                # In image tag ,searching for \"data-srcset\"\n",
    "                image_link = image[\"srcset\"]\n",
    "                 \n",
    "            # then we will search for \"data-src\" in img\n",
    "            # tag and so on..\n",
    "            except:\n",
    "                try:\n",
    "                    # In image tag ,searching for \"data-src\"\n",
    "                    image_link = image[\"src\"]\n",
    "                except:\n",
    "                    try:\n",
    "                        # In image tag ,searching for \"data-fallback-src\"\n",
    "                        image_link = image[\"data-fallback-src\"]\n",
    "                    except:\n",
    "                        try:\n",
    "                            # In image tag ,searching for \"src\"\n",
    "                            image_link = image[\"src\"]\n",
    " \n",
    "                        # if no Source URL found\n",
    "                        except:\n",
    "                            pass\n",
    " \n",
    "            # After getting Image Source URL\n",
    "            # We will try to get the content of image\n",
    "            try:\n",
    "                r = requests.get(image_link).content\n",
    "                try:\n",
    " \n",
    "                    # possibility of decode\n",
    "                    r = str(r, 'utf-8')\n",
    " \n",
    "                except UnicodeDecodeError:\n",
    " \n",
    "                    # After checking above condition, Image Download start\n",
    "                    with open(f\"{folder_name}/images{i+1}.jpg\", \"wb+\") as f:\n",
    "                        f.write(r)\n",
    " \n",
    "                    # counting number of image downloaded\n",
    "                    count += 1\n",
    "            except:\n",
    "                pass\n",
    " \n",
    "        # There might be possible, that all\n",
    "        # images not download\n",
    "        # if all images download\n",
    "        if count == len(images):\n",
    "            print(\"All Images Downloaded!\")\n",
    "             \n",
    "        # if all images not download\n",
    "        else:\n",
    "            print(f\"Total {count} Images Downloaded Out of {len(images)}\")\n",
    " \n",
    "# MAIN FUNCTION START\n",
    "def main(url):\n",
    "   \n",
    "    # content of URL\n",
    "    r = requests.get(url)\n",
    " \n",
    "    # Parse HTML Code\n",
    "    soup = BeautifulSoup(r.text, 'html.parser')\n",
    " \n",
    "    # find all images in URL\n",
    "    images = soup.findAll('img')\n",
    " \n",
    "    # Call folder create function\n",
    "    folder_create(images)\n",
    " \n",
    " \n",
    "# take url\n",
    "url = input(\"Enter URL:- \")\n",
    " \n",
    "# CALL MAIN FUNCTION\n",
    "main(url)"
   ]
  },
  {
   "cell_type": "code",
   "execution_count": null,
   "id": "c0b9802e-0a58-4bd2-8566-13479cfc09a5",
   "metadata": {},
   "outputs": [],
   "source": [
    "#### Scrape and Download Images from parent site URL"
   ]
  },
  {
   "cell_type": "code",
   "execution_count": 7,
   "id": "17e45d7f-f1f3-4fc7-868e-7ca58bc32ba7",
   "metadata": {},
   "outputs": [
    {
     "data": {
      "text/plain": [
       "'https://www.psychobunny.com/'"
      ]
     },
     "execution_count": 7,
     "metadata": {},
     "output_type": "execute_result"
    }
   ],
   "source": [
    "site_links_df['loc'][0]"
   ]
  }
 ],
 "metadata": {
  "kernelspec": {
   "display_name": "Python 3 (ipykernel)",
   "language": "python",
   "name": "python3"
  },
  "language_info": {
   "codemirror_mode": {
    "name": "ipython",
    "version": 3
   },
   "file_extension": ".py",
   "mimetype": "text/x-python",
   "name": "python",
   "nbconvert_exporter": "python",
   "pygments_lexer": "ipython3",
   "version": "3.9.10"
  }
 },
 "nbformat": 4,
 "nbformat_minor": 5
}
